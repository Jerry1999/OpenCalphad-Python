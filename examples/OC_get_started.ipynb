{
 "cells": [
  {
   "cell_type": "markdown",
   "metadata": {},
   "source": [
    "## This example helps you to get started in using OC-Python\n",
    "\n",
    "### Single equilibrium is calculated and some results are presented."
   ]
  },
  {
   "cell_type": "code",
   "execution_count": 1,
   "metadata": {},
   "outputs": [],
   "source": [
    "import json\n",
    "from ocpython.OCPython import SingleEquilibriumCalculation\n",
    "from ocpython.OCPython import Verbosity\n",
    "from ocpython.OCPython import GridMinimizerStatus as gmStat\n",
    "from ocpython.OCPython_utility import OCPython_utility"
   ]
  },
  {
   "cell_type": "markdown",
   "metadata": {},
   "source": [
    "#### Initiate SingleEquilibriumCalculation and set verbosity level"
   ]
  },
  {
   "cell_type": "code",
   "execution_count": 2,
   "metadata": {},
   "outputs": [],
   "source": [
    "vs = Verbosity(newlogfile=True,process_name='SingleEquilibriumCalculation')\n",
    "isVerbosity = False\n",
    "vs.setVerbosity(isVerbosity)\n",
    "\n",
    "# Initiate SingleEquilibriumCalculation\n",
    "oc = SingleEquilibriumCalculation(vs)"
   ]
  },
  {
   "cell_type": "markdown",
   "metadata": {},
   "source": [
    "#### Read tdb database with elements"
   ]
  },
  {
   "cell_type": "code",
   "execution_count": 3,
   "metadata": {},
   "outputs": [
    {
     "name": "stdout",
     "output_type": "stream",
     "text": [
      "list phases: ['LIQUID', 'BCC_A2', 'CBCC_A12', 'CEMENTITE', 'CHI_A12', 'CR3SI', 'CRSI2', 'CUB_A13', 'DIAMOND_A4', 'FCC_A1', 'FE4N', 'FECN_CHI', 'GRAPHITE', 'HCP_A3', 'KSI_CARBIDE', 'M23C6', 'M3C2', 'M5C2', 'M7C3', 'SIGMA', 'V3C2']\n",
      "components list from database: ['C', 'CR', 'FE']\n"
     ]
    }
   ],
   "source": [
    "# reading database (.tdb file)\n",
    "tdbFile=r'steel1.TDB'\n",
    "elements = ['FE','C','CR']\n",
    "oc.readtdb(tdbFile,elements)\n",
    "\n",
    "# get all phases in the system\n",
    "nPhase = oc.getNumberPhase()\n",
    "phases = []\n",
    "for index in range(nPhase):\n",
    "\tphases.append(oc.getPhaseName(index))\n",
    "print('list phases:',phases)\n",
    "\n",
    "comp = oc.getComponentNames()\n",
    "print('components list from database:', comp)"
   ]
  },
  {
   "cell_type": "markdown",
   "metadata": {},
   "source": [
    "#### Set conditions"
   ]
  },
  {
   "cell_type": "code",
   "execution_count": 4,
   "metadata": {},
   "outputs": [],
   "source": [
    "# set pressure and temperature\n",
    "oc.setPressure(1E5)\n",
    "oc.setTemperature(800)\n",
    "oc.setTotalMolarAmount(1)\n",
    "\n",
    "# set element molar fraction\n",
    "elementMassFractions = {\n",
    "\t'C' : 0.009,\n",
    "\t'CR' : 0.045,\n",
    "\t'FE': -1\n",
    "\t}\n",
    "oc.setElementMassFraction(elementMassFractions)"
   ]
  },
  {
   "cell_type": "markdown",
   "metadata": {},
   "source": [
    "#### Calculate equilibrium and list results"
   ]
  },
  {
   "cell_type": "code",
   "execution_count": 5,
   "metadata": {},
   "outputs": [
    {
     "name": "stdout",
     "output_type": "stream",
     "text": [
      "Gibbs energy [J]:  -30129.41\n",
      "Phase element composition:\n",
      "{\n",
      "    \"BCC_A2\": {\n",
      "        \"C\": 3.1e-05,\n",
      "        \"CR\": 0.002029,\n",
      "        \"FE\": 0.99794\n",
      "    },\n",
      "    \"GRAPHITE\": {\n",
      "        \"C\": 1.0,\n",
      "        \"CR\": 0.0,\n",
      "        \"FE\": 0.0\n",
      "    },\n",
      "    \"M7C3\": {\n",
      "        \"C\": 0.3,\n",
      "        \"CR\": 0.435324,\n",
      "        \"FE\": 0.264676\n",
      "    }\n",
      "}\n",
      "Phase molar fractions:\n",
      "{\n",
      "    \"BCC_A2\": 0.887532,\n",
      "    \"GRAPHITE\": 0.009454,\n",
      "    \"M7C3\": 0.103014\n",
      "}\n"
     ]
    }
   ],
   "source": [
    "# calculate equilibrium with grid-minimizer\n",
    "oc.calculateEquilibrium(gmStat.On)\n",
    "print('Gibbs energy [J]: ',  \"{:.2f}\".format(oc.getGibbsEnergy()))\n",
    "\n",
    "phaseElementComposition = oc.getPhaseElementComposition()\n",
    "\n",
    "if not isVerbosity: print('Phase element composition:\\n'+json.dumps(json.loads(json.dumps(phaseElementComposition), parse_float=lambda x: round(float(x), 6)),indent=4))\n",
    "\n",
    "phasefraction = OCPython_utility.getPhaseFraction(oc)\n",
    "\n",
    "if not isVerbosity: print('Phase molar fractions:\\n'+json.dumps(json.loads(json.dumps(phasefraction), parse_float=lambda x: round(float(x), 6)),indent=4))"
   ]
  }
 ],
 "metadata": {
  "kernelspec": {
   "display_name": "Python 3.8.10 64-bit",
   "language": "python",
   "name": "python3"
  },
  "language_info": {
   "codemirror_mode": {
    "name": "ipython",
    "version": 3
   },
   "file_extension": ".py",
   "mimetype": "text/x-python",
   "name": "python",
   "nbconvert_exporter": "python",
   "pygments_lexer": "ipython3",
   "version": "3.8.10"
  },
  "orig_nbformat": 4,
  "vscode": {
   "interpreter": {
    "hash": "9650cb4e16cdd4a8e8e2d128bf38d875813998db22a3c986335f89e0cb4d7bb2"
   }
  }
 },
 "nbformat": 4,
 "nbformat_minor": 2
}
